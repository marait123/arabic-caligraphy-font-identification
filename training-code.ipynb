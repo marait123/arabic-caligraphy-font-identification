{
 "cells": [
  {
   "cell_type": "code",
   "execution_count": 1,
   "metadata": {
    "ExecuteTime": {
     "end_time": "2022-01-08T10:13:08.738356Z",
     "start_time": "2022-01-08T10:13:05.846071Z"
    }
   },
   "outputs": [],
   "source": [
    "from preprocessing import *\n",
    "from feature_extraction import *\n",
    "import torch\n",
    "from torch import nn, optim\n",
    "from classifier import nn_train, nn_predict, nn_accuracy\n",
    "from torchvision import datasets, transforms, models\n",
    "import time\n",
    "\n",
    "%matplotlib inline\n",
    "%load_ext autoreload\n",
    "%autoreload 2"
   ]
  },
  {
   "cell_type": "code",
   "execution_count": 110,
   "metadata": {
    "ExecuteTime": {
     "end_time": "2022-01-07T21:12:58.405886Z",
     "start_time": "2022-01-07T21:12:58.366422Z"
    }
   },
   "outputs": [
    {
     "name": "stdout",
     "output_type": "stream",
     "text": [
      "(1684,)\n",
      "(1684,)\n",
      "ACdata_base/1/0001.jpg\n",
      "1\n"
     ]
    }
   ],
   "source": [
    "X, Y = load_data()\n",
    "print(X.shape)\n",
    "print(Y.shape)\n",
    "print(X[0])\n",
    "print(Y[0])"
   ]
  },
  {
   "cell_type": "code",
   "execution_count": 119,
   "metadata": {
    "ExecuteTime": {
     "end_time": "2022-01-06T09:59:23.779119Z",
     "start_time": "2022-01-06T09:59:23.228407Z"
    },
    "scrolled": false
   },
   "outputs": [],
   "source": [
    "split_data(X, Y)"
   ]
  },
  {
   "cell_type": "code",
   "execution_count": 55,
   "metadata": {
    "ExecuteTime": {
     "end_time": "2022-01-08T11:14:24.105537Z",
     "start_time": "2022-01-08T11:13:40.491011Z"
    }
   },
   "outputs": [
    {
     "name": "stdout",
     "output_type": "stream",
     "text": [
      "torch.Size([1010, 291])\n",
      "torch.Size([1010])\n",
      "torch.Size([337, 291])\n",
      "torch.Size([337])\n",
      "torch.Size([337, 291])\n",
      "torch.Size([337])\n"
     ]
    }
   ],
   "source": [
    "class Preprocessing(object):\n",
    "    def __call__(self,img):\n",
    "        binaryImage = preprocessImage(np.asarray(img.convert('L')))\n",
    "        return binaryImage\n",
    "\n",
    "\n",
    "class FeatureExtraction(object):\n",
    "    def __call__(self,img):\n",
    "        featuresLPQ = localPhaseQuantization(img)\n",
    "        \n",
    "        featuresNo = 36\n",
    "#         _, diacritics =  diacriticsSegmentationClustering(img)\n",
    "#         featuresH = np.zeros((featuresNo))\n",
    "        \n",
    "#         if diacritics.sum() != diacritics.size:\n",
    "        featuresH = extract_EOH(img, featuresNo)\n",
    "        \n",
    "        features = np.hstack((featuresH, featuresLPQ))\n",
    "        return features\n",
    "\n",
    "\n",
    "train_transforms = transforms.Compose([Preprocessing(), FeatureExtraction()])\n",
    "valid_transforms = transforms.Compose([Preprocessing(), FeatureExtraction()])\n",
    "test_transforms = transforms.Compose([Preprocessing(), FeatureExtraction()])\n",
    "\n",
    "train_data = np.array(datasets.ImageFolder('data/train', transform=train_transforms), dtype=object)\n",
    "X_train, Y_train = np.stack(train_data[:, 0]), train_data[:, 1].astype(np.uint8)\n",
    "X_train = torch.from_numpy(X_train)\n",
    "Y_train = torch.from_numpy(Y_train)\n",
    "\n",
    "valid_data = np.array(datasets.ImageFolder('data/valid', transform=valid_transforms), dtype=object)\n",
    "X_valid, Y_valid = np.stack(valid_data[:, 0]), valid_data[:, 1].astype(np.uint8)\n",
    "X_valid = torch.from_numpy(X_valid)\n",
    "Y_valid = torch.from_numpy(Y_valid)\n",
    "\n",
    "test_data = np.array(datasets.ImageFolder('data/test', transform=test_transforms), dtype=object)\n",
    "X_test, Y_test = np.stack(test_data[:, 0]), test_data[:, 1].astype(np.uint8)\n",
    "X_test = torch.from_numpy(X_test)\n",
    "Y_test = torch.from_numpy(Y_test)\n",
    "\n",
    "print(X_train.shape)\n",
    "print(Y_train.shape)\n",
    "print(X_valid.shape)\n",
    "print(Y_valid.shape)\n",
    "print(X_test.shape)\n",
    "print(Y_test.shape)"
   ]
  },
  {
   "cell_type": "code",
   "execution_count": 57,
   "metadata": {
    "ExecuteTime": {
     "end_time": "2022-01-08T11:20:40.662215Z",
     "start_time": "2022-01-08T11:19:44.400932Z"
    },
    "scrolled": false
   },
   "outputs": [
    {
     "name": "stdout",
     "output_type": "stream",
     "text": [
      "[INFO] Epoch: 1/5000\n",
      " Training Loss: 0.002, training accuracy 10.990% validation Loss: 0.007, validation accuracy 10.682%\n",
      "[INFO] Epoch: 101/5000\n",
      " Training Loss: 0.001, training accuracy 56.931% validation Loss: 0.003, validation accuracy 59.347%\n",
      "[INFO] Epoch: 201/5000\n",
      " Training Loss: 0.001, training accuracy 79.703% validation Loss: 0.002, validation accuracy 79.228%\n",
      "[INFO] Epoch: 301/5000\n",
      " Training Loss: 0.000, training accuracy 87.921% validation Loss: 0.001, validation accuracy 86.944%\n",
      "[INFO] Epoch: 401/5000\n",
      " Training Loss: 0.000, training accuracy 91.287% validation Loss: 0.001, validation accuracy 90.801%\n",
      "[INFO] Epoch: 501/5000\n",
      " Training Loss: 0.000, training accuracy 94.059% validation Loss: 0.001, validation accuracy 95.252%\n",
      "[INFO] Epoch: 601/5000\n",
      " Training Loss: 0.000, training accuracy 96.436% validation Loss: 0.000, validation accuracy 96.142%\n",
      "[INFO] Epoch: 701/5000\n",
      " Training Loss: 0.000, training accuracy 97.327% validation Loss: 0.000, validation accuracy 96.439%\n",
      "[INFO] Epoch: 801/5000\n",
      " Training Loss: 0.000, training accuracy 97.723% validation Loss: 0.000, validation accuracy 96.439%\n",
      "[INFO] Epoch: 901/5000\n",
      " Training Loss: 0.000, training accuracy 97.723% validation Loss: 0.000, validation accuracy 97.626%\n",
      "[INFO] Epoch: 1001/5000\n",
      " Training Loss: 0.000, training accuracy 98.911% validation Loss: 0.000, validation accuracy 97.329%\n",
      "[INFO] Epoch: 1101/5000\n",
      " Training Loss: 0.000, training accuracy 98.416% validation Loss: 0.000, validation accuracy 97.329%\n",
      "[INFO] Epoch: 1201/5000\n",
      " Training Loss: 0.000, training accuracy 98.614% validation Loss: 0.000, validation accuracy 97.329%\n",
      "[INFO] Epoch: 1301/5000\n",
      " Training Loss: 0.000, training accuracy 99.109% validation Loss: 0.000, validation accuracy 97.923%\n",
      "[INFO] Epoch: 1401/5000\n",
      " Training Loss: 0.000, training accuracy 99.307% validation Loss: 0.000, validation accuracy 97.329%\n",
      "[INFO] Epoch: 1501/5000\n",
      " Training Loss: 0.000, training accuracy 99.109% validation Loss: 0.000, validation accuracy 97.923%\n",
      "[INFO] Epoch: 1601/5000\n",
      " Training Loss: 0.000, training accuracy 99.406% validation Loss: 0.000, validation accuracy 97.923%\n",
      "[INFO] Epoch: 1701/5000\n",
      " Training Loss: 0.000, training accuracy 99.010% validation Loss: 0.000, validation accuracy 98.220%\n",
      "[INFO] Epoch: 1801/5000\n",
      " Training Loss: 0.000, training accuracy 99.208% validation Loss: 0.000, validation accuracy 97.626%\n",
      "[INFO] Epoch: 1901/5000\n",
      " Training Loss: 0.000, training accuracy 99.505% validation Loss: 0.000, validation accuracy 98.220%\n",
      "[INFO] Epoch: 2001/5000\n",
      " Training Loss: 0.000, training accuracy 99.010% validation Loss: 0.000, validation accuracy 98.516%\n",
      "[INFO] Epoch: 2101/5000\n",
      " Training Loss: 0.000, training accuracy 99.505% validation Loss: 0.000, validation accuracy 98.516%\n",
      "[INFO] Epoch: 2201/5000\n",
      " Training Loss: 0.000, training accuracy 99.109% validation Loss: 0.000, validation accuracy 98.813%\n",
      "[INFO] Epoch: 2301/5000\n",
      " Training Loss: 0.000, training accuracy 99.307% validation Loss: 0.000, validation accuracy 98.516%\n",
      "[INFO] Epoch: 2401/5000\n",
      " Training Loss: 0.000, training accuracy 99.208% validation Loss: 0.000, validation accuracy 98.220%\n",
      "[INFO] Epoch: 2501/5000\n",
      " Training Loss: 0.000, training accuracy 99.307% validation Loss: 0.000, validation accuracy 98.516%\n",
      "[INFO] Epoch: 2601/5000\n",
      " Training Loss: 0.000, training accuracy 99.307% validation Loss: 0.000, validation accuracy 98.516%\n",
      "[INFO] Epoch: 2701/5000\n",
      " Training Loss: 0.000, training accuracy 99.208% validation Loss: 0.000, validation accuracy 98.220%\n",
      "[INFO] Epoch: 2801/5000\n",
      " Training Loss: 0.000, training accuracy 99.703% validation Loss: 0.000, validation accuracy 98.813%\n",
      "[INFO] Epoch: 2901/5000\n",
      " Training Loss: 0.000, training accuracy 99.802% validation Loss: 0.000, validation accuracy 98.813%\n",
      "[INFO] Epoch: 3001/5000\n",
      " Training Loss: 0.000, training accuracy 99.505% validation Loss: 0.000, validation accuracy 98.516%\n",
      "[INFO] Epoch: 3101/5000\n",
      " Training Loss: 0.000, training accuracy 99.505% validation Loss: 0.000, validation accuracy 98.813%\n",
      "[INFO] Epoch: 3201/5000\n",
      " Training Loss: 0.000, training accuracy 99.703% validation Loss: 0.000, validation accuracy 98.516%\n",
      "[INFO] Epoch: 3301/5000\n",
      " Training Loss: 0.000, training accuracy 99.703% validation Loss: 0.000, validation accuracy 98.813%\n",
      "[INFO] Epoch: 3401/5000\n",
      " Training Loss: 0.000, training accuracy 99.208% validation Loss: 0.000, validation accuracy 98.813%\n",
      "[INFO] Epoch: 3501/5000\n",
      " Training Loss: 0.000, training accuracy 99.604% validation Loss: 0.000, validation accuracy 98.516%\n",
      "[INFO] Epoch: 3601/5000\n",
      " Training Loss: 0.000, training accuracy 99.505% validation Loss: 0.000, validation accuracy 98.813%\n",
      "[INFO] Epoch: 3701/5000\n",
      " Training Loss: 0.000, training accuracy 99.802% validation Loss: 0.000, validation accuracy 98.516%\n",
      "[INFO] Epoch: 3801/5000\n",
      " Training Loss: 0.000, training accuracy 99.901% validation Loss: 0.000, validation accuracy 98.813%\n",
      "[INFO] Epoch: 3901/5000\n",
      " Training Loss: 0.000, training accuracy 99.901% validation Loss: 0.000, validation accuracy 98.813%\n",
      "[INFO] Epoch: 4001/5000\n",
      " Training Loss: 0.000, training accuracy 99.703% validation Loss: 0.000, validation accuracy 98.813%\n",
      "[INFO] Epoch: 4101/5000\n",
      " Training Loss: 0.000, training accuracy 99.901% validation Loss: 0.000, validation accuracy 98.516%\n",
      "[INFO] Epoch: 4201/5000\n",
      " Training Loss: 0.000, training accuracy 99.802% validation Loss: 0.000, validation accuracy 98.516%\n",
      "[INFO] Epoch: 4301/5000\n",
      " Training Loss: 0.000, training accuracy 99.604% validation Loss: 0.000, validation accuracy 98.813%\n",
      "[INFO] Epoch: 4401/5000\n",
      " Training Loss: 0.000, training accuracy 99.703% validation Loss: 0.000, validation accuracy 98.516%\n",
      "[INFO] Epoch: 4501/5000\n",
      " Training Loss: 0.000, training accuracy 99.901% validation Loss: 0.000, validation accuracy 98.813%\n",
      "[INFO] Epoch: 4601/5000\n",
      " Training Loss: 0.000, training accuracy 99.703% validation Loss: 0.000, validation accuracy 98.516%\n",
      "[INFO] Epoch: 4701/5000\n",
      " Training Loss: 0.000, training accuracy 99.703% validation Loss: 0.000, validation accuracy 98.813%\n",
      "[INFO] Epoch: 4801/5000\n",
      " Training Loss: 0.000, training accuracy 99.802% validation Loss: 0.000, validation accuracy 98.813%\n",
      "[INFO] Epoch: 4901/5000\n",
      " Training Loss: 0.000, training accuracy 99.901% validation Loss: 0.000, validation accuracy 98.516%\n"
     ]
    },
    {
     "data": {
      "image/png": "[encoded data removed]",
      "text/plain": [
       "<Figure size 432x288 with 1 Axes>"
      ]
     },
     "metadata": {
      "needs_background": "light"
     },
     "output_type": "display_data"
    }
   ],
   "source": [
    "model = nn.Sequential(nn.Linear(291, 1024),\n",
    "                    nn.ReLU(),\n",
    "                    nn.Dropout(0.2),\n",
    "                    nn.Linear(1024, 512),\n",
    "                    nn.ReLU(),\n",
    "                    nn.Dropout(0.2),\n",
    "                    nn.Linear(512, 9),\n",
    "                    nn.LogSoftmax(dim=1))\n",
    "\n",
    "train_losses, validation_losses =\\\n",
    "    nn_train(model, X_train, Y_train, X_valid, Y_valid, epochs=5000, lr=0.001, validate_every=100, debug=True)\n",
    "\n",
    "plt.plot(train_losses, label='Training loss')\n",
    "plt.plot(validation_losses, label='Validation loss')\n",
    "plt.legend(frameon=False)\n",
    "plt.show()"
   ]
  },
  {
   "cell_type": "code",
   "execution_count": 71,
   "metadata": {
    "ExecuteTime": {
     "end_time": "2022-01-08T12:40:40.244257Z",
     "start_time": "2022-01-08T12:40:40.198524Z"
    }
   },
   "outputs": [
    {
     "name": "stdout",
     "output_type": "stream",
     "text": [
      "training accuracy = 100.0%   (1010/1010)\n",
      "validation accuracy = 98.81305637982196%   (333/337)\n",
      "test accuracy = 99.10979228486647%   (334/337)\n"
     ]
    }
   ],
   "source": [
    "# torch.save(model.state_dict(), 'model.pth')\n",
    "# model.load_state_dict(torch.load('model.pth'))\n",
    "\n",
    "train_predictions = nn_predict(model, X_train)\n",
    "validation_predictions = nn_predict(model, X_valid)\n",
    "test_predictions = nn_predict(model, X_test)\n",
    "\n",
    "training_accuracy, training_correct = nn_accuracy(train_predictions, Y_train)\n",
    "validation_accuracy, validation_correct = nn_accuracy(validation_predictions, Y_valid)\n",
    "test_accuracy, test_correct = nn_accuracy(test_predictions, Y_test)\n",
    "\n",
    "print(f'training accuracy = {training_accuracy*100}%   ({training_correct}/{len(Y_train)})')\n",
    "print(f'validation accuracy = {validation_accuracy*100}%   ({validation_correct}/{len(Y_valid)})')\n",
    "print(f'test accuracy = {test_accuracy*100}%   ({test_correct}/{len(Y_test)})')"
   ]
  },
  {
   "cell_type": "code",
   "execution_count": 67,
   "metadata": {
    "ExecuteTime": {
     "end_time": "2022-01-08T12:33:54.746065Z",
     "start_time": "2022-01-08T12:33:54.689479Z"
    }
   },
   "outputs": [
    {
     "name": "stdout",
     "output_type": "stream",
     "text": [
      "[INFO]\n",
      "class #1\n",
      "training accuracy = 100.000%   (124/124)\n",
      "validation accuracy = 100.000%   (36/36)\n",
      "test accuracy = 100.000%   (30/30)\n",
      "\n",
      "[INFO]\n",
      "class #2\n",
      "training accuracy = 100.000%   (109/109)\n",
      "validation accuracy = 100.000%   (43/43)\n",
      "test accuracy = 100.000%   (38/38)\n",
      "\n",
      "[INFO]\n",
      "class #3\n",
      "training accuracy = 100.000%   (111/111)\n",
      "validation accuracy = 100.000%   (40/40)\n",
      "test accuracy = 100.000%   (28/28)\n",
      "\n",
      "[INFO]\n",
      "class #4\n",
      "training accuracy = 100.000%   (117/117)\n",
      "validation accuracy = 96.429%   (27/28)\n",
      "test accuracy = 97.500%   (39/40)\n",
      "\n",
      "[INFO]\n",
      "class #5\n",
      "training accuracy = 100.000%   (117/117)\n",
      "validation accuracy = 97.436%   (38/39)\n",
      "test accuracy = 97.436%   (38/39)\n",
      "\n",
      "[INFO]\n",
      "class #6\n",
      "training accuracy = 100.000%   (95/95)\n",
      "validation accuracy = 97.436%   (38/39)\n",
      "test accuracy = 100.000%   (46/46)\n",
      "\n",
      "[INFO]\n",
      "class #7\n",
      "training accuracy = 100.000%   (106/106)\n",
      "validation accuracy = 100.000%   (38/38)\n",
      "test accuracy = 100.000%   (41/41)\n",
      "\n",
      "[INFO]\n",
      "class #8\n",
      "training accuracy = 100.000%   (121/121)\n",
      "validation accuracy = 100.000%   (38/38)\n",
      "test accuracy = 96.774%   (30/31)\n",
      "\n",
      "[INFO]\n",
      "class #9\n",
      "training accuracy = 100.000%   (110/110)\n",
      "validation accuracy = 97.222%   (35/36)\n",
      "test accuracy = 100.000%   (44/44)\n",
      "\n"
     ]
    }
   ],
   "source": [
    "for i in range(9):\n",
    "    print('[INFO]')\n",
    "    print(f'class #{i+1}')\n",
    "\n",
    "    training_accuracy, training_correct = nn_accuracy(train_predictions[Y_train == i], Y_train[Y_train == i])\n",
    "    validation_accuracy, validation_correct = nn_accuracy(validation_predictions[Y_valid == i], Y_valid[Y_valid == i])\n",
    "    test_accuracy, test_correct = nn_accuracy(test_predictions[Y_test == i], Y_test[Y_test == i])\n",
    "\n",
    "    print(f'training accuracy = {training_accuracy*100:0.3f}%   ({training_correct}/{len(Y_train[Y_train == i])})')\n",
    "    print(f'validation accuracy = {validation_accuracy*100:0.3f}%   ({validation_correct}/{len(Y_valid[Y_valid == i])})')\n",
    "    print(f'test accuracy = {test_accuracy*100:0.3f}%   ({test_correct}/{len(Y_test[Y_test == i])})')\n",
    "    \n",
    "    print()"
   ]
  }
 ],
 "metadata": {
  "interpreter": {
   "hash": "54ac309f0ea5c8bc60f79b0ab1d3bdc25309c2f99851fe0390ab71cf066c3be6"
  },
  "kernelspec": {
   "display_name": "Python 3",
   "language": "python",
   "name": "python3"
  },
  "language_info": {
   "codemirror_mode": {
    "name": "ipython",
    "version": 3
   },
   "file_extension": ".py",
   "mimetype": "text/x-python",
   "name": "python",
   "nbconvert_exporter": "python",
   "pygments_lexer": "ipython3",
   "version": "3.8.8"
  },
  "toc": {
   "base_numbering": 1,
   "nav_menu": {},
   "number_sections": true,
   "sideBar": true,
   "skip_h1_title": false,
   "title_cell": "Table of Contents",
   "title_sidebar": "Contents",
   "toc_cell": false,
   "toc_position": {},
   "toc_section_display": true,
   "toc_window_display": false
  },
  "varInspector": {
   "cols": {
    "lenName": 16,
    "lenType": 16,
    "lenVar": 40
   },
   "kernels_config": {
    "python": {
     "delete_cmd_postfix": "",
     "delete_cmd_prefix": "del ",
     "library": "var_list.py",
     "varRefreshCmd": "print(var_dic_list())"
    },
    "r": {
     "delete_cmd_postfix": ") ",
     "delete_cmd_prefix": "rm(",
     "library": "var_list.r",
     "varRefreshCmd": "cat(var_dic_list()) "
    }
   },
   "types_to_exclude": [
    "module",
    "function",
    "builtin_function_or_method",
    "instance",
    "_Feature"
   ],
   "window_display": false
  }
 },
 "nbformat": 4,
 "nbformat_minor": 2
}
