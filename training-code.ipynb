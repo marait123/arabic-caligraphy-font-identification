{
 "cells": [
  {
   "cell_type": "markdown",
   "metadata": {},
   "source": [
    "## PreProcessing Step\n",
    "### the following issues need to be handled\n",
    "1. some images are inverted (white is used for font and black for background unlike the majority)\n",
    "2. light differs (you need to binarize and enhance the image quality)\n",
    "\n"
   ]
  },
  {
   "cell_type": "code",
   "execution_count": 1,
   "metadata": {
    "ExecuteTime": {
     "end_time": "2022-01-04T15:44:16.481704Z",
     "start_time": "2022-01-04T15:44:13.692932Z"
    }
   },
   "outputs": [],
   "source": [
    "from preprocessing import *\n",
    "from feature_extraction import *\n",
    "import torch\n",
    "from torch import nn, optim\n",
    "from nn_utils import nn_train, nn_predict, nn_accuracy\n",
    "\n",
    "%matplotlib inline\n",
    "%load_ext autoreload\n",
    "%autoreload 2"
   ]
  },
  {
   "cell_type": "code",
   "execution_count": 2,
   "metadata": {
    "ExecuteTime": {
     "end_time": "2022-01-04T15:44:16.553117Z",
     "start_time": "2022-01-04T15:44:16.529950Z"
    }
   },
   "outputs": [],
   "source": [
    "classes = ['diwani', 'naskh', 'parsi', 'rekaa', 'thuluth', 'maghribi', 'kufi', 'mohakek', 'Squar-kufic']"
   ]
  },
  {
   "cell_type": "code",
   "execution_count": 181,
   "metadata": {
    "ExecuteTime": {
     "end_time": "2022-01-04T20:07:57.200878Z",
     "start_time": "2022-01-04T20:07:57.169479Z"
    }
   },
   "outputs": [
    {
     "name": "stdout",
     "output_type": "stream",
     "text": [
      "(1684,)\n",
      "(1684,)\n",
      "ACdata_base/1/0001.jpg\n",
      "1\n"
     ]
    }
   ],
   "source": [
    "X, Y = load_data()\n",
    "print(X.shape)\n",
    "print(Y.shape)\n",
    "print(X[0])\n",
    "print(Y[0])"
   ]
  },
  {
   "cell_type": "code",
   "execution_count": 453,
   "metadata": {
    "ExecuteTime": {
     "end_time": "2022-01-05T00:43:43.812882Z",
     "start_time": "2022-01-05T00:43:43.659474Z"
    },
    "scrolled": false
   },
   "outputs": [],
   "source": [
    "split_data(X, Y)"
   ]
  },
  {
   "cell_type": "code",
   "execution_count": 452,
   "metadata": {
    "ExecuteTime": {
     "end_time": "2022-01-05T00:43:41.070220Z",
     "start_time": "2022-01-05T00:43:41.054476Z"
    }
   },
   "outputs": [],
   "source": [
    "class Preprocessing(object):\n",
    "    def __call__(self,img):\n",
    "        binaryImage = binraization(np.asarray(img.convert('L')))\n",
    "        return binaryImage\n",
    "\n",
    "\n",
    "class FeatureExtraction(object):\n",
    "    def __call__(self,img):\n",
    "        feature_dim = 360\n",
    "        features = extract_EOH(img, feature_dim)\n",
    "        return features\n"
   ]
  },
  {
   "cell_type": "code",
   "execution_count": 454,
   "metadata": {
    "ExecuteTime": {
     "end_time": "2022-01-05T00:43:50.092196Z",
     "start_time": "2022-01-05T00:43:46.414869Z"
    }
   },
   "outputs": [],
   "source": [
    "from torchvision import datasets, transforms, models\n",
    "\n",
    "train_transforms = transforms.Compose([Preprocessing(), FeatureExtraction()])\n",
    "valid_transforms = transforms.Compose([Preprocessing(), FeatureExtraction()])\n",
    "test_transforms = transforms.Compose([Preprocessing(), FeatureExtraction()])\n",
    "\n",
    "train_data = np.array(datasets.ImageFolder('data/train', transform=train_transforms), dtype=object)\n",
    "X_train, Y_train = np.stack(train_data[:, 0]), train_data[:, 1].astype(np.uint8)\n",
    "valid_data = np.array(datasets.ImageFolder('data/valid', transform=valid_transforms), dtype=object)\n",
    "X_valid, Y_valid = np.stack(valid_data[:, 0]), valid_data[:, 1].astype(np.uint8)\n",
    "test_data = np.array(datasets.ImageFolder('data/test', transform=test_transforms), dtype=object)\n",
    "X_test, Y_test = np.stack(test_data[:, 0]), test_data[:, 1].astype(np.uint8)"
   ]
  },
  {
   "cell_type": "code",
   "execution_count": 455,
   "metadata": {
    "ExecuteTime": {
     "end_time": "2022-01-05T00:43:53.753792Z",
     "start_time": "2022-01-05T00:43:53.735179Z"
    }
   },
   "outputs": [
    {
     "name": "stdout",
     "output_type": "stream",
     "text": [
      "torch.Size([1010, 360])\n",
      "torch.Size([1010])\n",
      "torch.Size([337, 360])\n",
      "torch.Size([337])\n",
      "torch.Size([337, 360])\n",
      "torch.Size([337])\n"
     ]
    }
   ],
   "source": [
    "X_train = torch.from_numpy(X_train)\n",
    "print(X_train.shape)\n",
    "Y_train = torch.from_numpy(Y_train)\n",
    "print(Y_train.shape)\n",
    "X_valid = torch.from_numpy(X_valid)\n",
    "print(X_valid.shape)\n",
    "Y_valid = torch.from_numpy(Y_valid)\n",
    "print(Y_valid.shape)\n",
    "X_test = torch.from_numpy(X_test)\n",
    "print(X_test.shape)\n",
    "Y_test = torch.from_numpy(Y_test)\n",
    "print(Y_test.shape)"
   ]
  },
  {
   "cell_type": "code",
   "execution_count": null,
   "metadata": {
    "ExecuteTime": {
     "start_time": "2022-01-05T00:43:55.605Z"
    }
   },
   "outputs": [
    {
     "name": "stdout",
     "output_type": "stream",
     "text": [
      "loss = 0.006476608864985163, accuracy = 23.14540059347181\n",
      "loss = 0.003981314002583218, accuracy = 54.00593471810089\n",
      "loss = 0.0025846439936040772, accuracy = 66.76557863501483\n",
      "loss = 0.0016025778801575612, accuracy = 77.74480712166172\n",
      "loss = 0.0010938652368256883, accuracy = 86.94362017804154\n",
      "loss = 0.0008220554989947763, accuracy = 90.50445103857567\n",
      "loss = 0.0006837225809295383, accuracy = 92.28486646884274\n",
      "loss = 0.0006268677531081066, accuracy = 93.76854599406528\n",
      "loss = 0.0005757516852472232, accuracy = 94.06528189910979\n",
      "loss = 0.0005192389650939127, accuracy = 95.25222551928783\n",
      "loss = 0.0005125580272617963, accuracy = 94.65875370919882\n",
      "loss = 0.0005029160474103707, accuracy = 94.95548961424333\n",
      "loss = 0.000502814259656459, accuracy = 94.65875370919882\n",
      "loss = 0.0004940489279410252, accuracy = 94.65875370919882\n",
      "loss = 0.00047867813697554594, accuracy = 94.95548961424333\n",
      "loss = 0.0004641238146790411, accuracy = 96.43916913946587\n",
      "loss = 0.00044900833322315613, accuracy = 95.54896142433235\n",
      "loss = 0.00042546485227364106, accuracy = 95.84569732937686\n",
      "loss = 0.0004122267402597988, accuracy = 96.14243323442136\n",
      "loss = 0.00039854013424598853, accuracy = 95.54896142433235\n",
      "loss = 0.0003930050382274548, accuracy = 95.84569732937686\n",
      "loss = 0.0003901355698129897, accuracy = 96.14243323442136\n",
      "loss = 0.0003723794876291066, accuracy = 95.54896142433235\n",
      "loss = 0.000372161232045567, accuracy = 96.14243323442136\n",
      "loss = 0.0003703285439785581, accuracy = 95.84569732937686\n",
      "loss = 0.0003692409139712416, accuracy = 96.14243323442136\n",
      "loss = 0.00036161377451186366, accuracy = 95.84569732937686\n",
      "loss = 0.0003511148452405052, accuracy = 96.43916913946587\n"
     ]
    }
   ],
   "source": [
    "from nn_utils import *\n",
    "\n",
    "model = nn.Sequential(nn.Linear(360, 1024),\n",
    "                    nn.ReLU(),\n",
    "                    nn.Dropout(0.2),\n",
    "                    nn.Linear(1024, 512),\n",
    "                    nn.ReLU(),\n",
    "                    nn.Dropout(0.2),\n",
    "                    nn.Linear(512, 9),\n",
    "                    nn.LogSoftmax(dim=1))\n",
    "\n",
    "train_losses, validation_losses =\\\n",
    "    nn_train(model, X_train, Y_train, X_valid, Y_valid, epochs=2000, lr=0.01, validate_every=10, debug=False)\n",
    "\n",
    "plt.plot(train_losses, label='Training loss')\n",
    "plt.plot(validation_losses, label='Validation loss')\n",
    "plt.legend(frameon=False)\n",
    "plt.show()\n",
    "\n",
    "\n",
    "model.load_state_dict(torch.load('model.pth'))\n",
    "train_predictions = nn_predict(model, X_train)\n",
    "validation_predictions = nn_predict(model, X_valid)\n",
    "test_predictions = nn_predict(model, X_test)\n",
    "\n",
    "print(f'training accuracy = {nn_accuracy(train_predictions, Y_train) * 100}%')\n",
    "print(f'validation accuracy = {nn_accuracy(validation_predictions, Y_valid) * 100}%')\n",
    "print(f'test accuracy = {nn_accuracy(test_predictions, Y_test) * 100}%')"
   ]
  },
  {
   "cell_type": "code",
   "execution_count": 392,
   "metadata": {
    "ExecuteTime": {
     "end_time": "2022-01-05T00:29:18.503359Z",
     "start_time": "2022-01-05T00:29:18.396288Z"
    }
   },
   "outputs": [
    {
     "name": "stdout",
     "output_type": "stream",
     "text": [
      "()\n"
     ]
    },
    {
     "ename": "TypeError",
     "evalue": "Image data of dtype <U22 cannot be converted to float",
     "output_type": "error",
     "traceback": [
      "\u001b[0;31m---------------------------------------------------------------------------\u001b[0m",
      "\u001b[0;31mTypeError\u001b[0m                                 Traceback (most recent call last)",
      "\u001b[0;32m<ipython-input-392-3e7aba2dd11b>\u001b[0m in \u001b[0;36m<module>\u001b[0;34m\u001b[0m\n\u001b[1;32m      3\u001b[0m \u001b[0;31m# Plot the image.\u001b[0m\u001b[0;34m\u001b[0m\u001b[0;34m\u001b[0m\u001b[0;34m\u001b[0m\u001b[0m\n\u001b[1;32m      4\u001b[0m \u001b[0mprint\u001b[0m\u001b[0;34m(\u001b[0m\u001b[0mX\u001b[0m\u001b[0;34m[\u001b[0m\u001b[0mrandom_index\u001b[0m\u001b[0;34m]\u001b[0m\u001b[0;34m.\u001b[0m\u001b[0mshape\u001b[0m\u001b[0;34m)\u001b[0m\u001b[0;34m\u001b[0m\u001b[0;34m\u001b[0m\u001b[0m\n\u001b[0;32m----> 5\u001b[0;31m \u001b[0mplt\u001b[0m\u001b[0;34m.\u001b[0m\u001b[0mimshow\u001b[0m\u001b[0;34m(\u001b[0m\u001b[0mX\u001b[0m\u001b[0;34m[\u001b[0m\u001b[0mrandom_index\u001b[0m\u001b[0;34m]\u001b[0m\u001b[0;34m,\u001b[0m \u001b[0;34m'gray'\u001b[0m\u001b[0;34m)\u001b[0m\u001b[0;34m\u001b[0m\u001b[0;34m\u001b[0m\u001b[0m\n\u001b[0m\u001b[1;32m      6\u001b[0m \u001b[0mplt\u001b[0m\u001b[0;34m.\u001b[0m\u001b[0maxis\u001b[0m\u001b[0;34m(\u001b[0m\u001b[0;34m\"off\"\u001b[0m\u001b[0;34m)\u001b[0m\u001b[0;34m\u001b[0m\u001b[0;34m\u001b[0m\u001b[0m\n\u001b[1;32m      7\u001b[0m \u001b[0;34m\u001b[0m\u001b[0m\n",
      "\u001b[0;32m~/anaconda3/lib/python3.8/site-packages/matplotlib/pyplot.py\u001b[0m in \u001b[0;36mimshow\u001b[0;34m(X, cmap, norm, aspect, interpolation, alpha, vmin, vmax, origin, extent, filternorm, filterrad, resample, url, data, **kwargs)\u001b[0m\n\u001b[1;32m   2722\u001b[0m         \u001b[0mfilternorm\u001b[0m\u001b[0;34m=\u001b[0m\u001b[0;32mTrue\u001b[0m\u001b[0;34m,\u001b[0m \u001b[0mfilterrad\u001b[0m\u001b[0;34m=\u001b[0m\u001b[0;36m4.0\u001b[0m\u001b[0;34m,\u001b[0m \u001b[0mresample\u001b[0m\u001b[0;34m=\u001b[0m\u001b[0;32mNone\u001b[0m\u001b[0;34m,\u001b[0m \u001b[0murl\u001b[0m\u001b[0;34m=\u001b[0m\u001b[0;32mNone\u001b[0m\u001b[0;34m,\u001b[0m\u001b[0;34m\u001b[0m\u001b[0;34m\u001b[0m\u001b[0m\n\u001b[1;32m   2723\u001b[0m         data=None, **kwargs):\n\u001b[0;32m-> 2724\u001b[0;31m     __ret = gca().imshow(\n\u001b[0m\u001b[1;32m   2725\u001b[0m         \u001b[0mX\u001b[0m\u001b[0;34m,\u001b[0m \u001b[0mcmap\u001b[0m\u001b[0;34m=\u001b[0m\u001b[0mcmap\u001b[0m\u001b[0;34m,\u001b[0m \u001b[0mnorm\u001b[0m\u001b[0;34m=\u001b[0m\u001b[0mnorm\u001b[0m\u001b[0;34m,\u001b[0m \u001b[0maspect\u001b[0m\u001b[0;34m=\u001b[0m\u001b[0maspect\u001b[0m\u001b[0;34m,\u001b[0m\u001b[0;34m\u001b[0m\u001b[0;34m\u001b[0m\u001b[0m\n\u001b[1;32m   2726\u001b[0m         \u001b[0minterpolation\u001b[0m\u001b[0;34m=\u001b[0m\u001b[0minterpolation\u001b[0m\u001b[0;34m,\u001b[0m \u001b[0malpha\u001b[0m\u001b[0;34m=\u001b[0m\u001b[0malpha\u001b[0m\u001b[0;34m,\u001b[0m \u001b[0mvmin\u001b[0m\u001b[0;34m=\u001b[0m\u001b[0mvmin\u001b[0m\u001b[0;34m,\u001b[0m\u001b[0;34m\u001b[0m\u001b[0;34m\u001b[0m\u001b[0m\n",
      "\u001b[0;32m~/anaconda3/lib/python3.8/site-packages/matplotlib/__init__.py\u001b[0m in \u001b[0;36minner\u001b[0;34m(ax, data, *args, **kwargs)\u001b[0m\n\u001b[1;32m   1445\u001b[0m     \u001b[0;32mdef\u001b[0m \u001b[0minner\u001b[0m\u001b[0;34m(\u001b[0m\u001b[0max\u001b[0m\u001b[0;34m,\u001b[0m \u001b[0;34m*\u001b[0m\u001b[0margs\u001b[0m\u001b[0;34m,\u001b[0m \u001b[0mdata\u001b[0m\u001b[0;34m=\u001b[0m\u001b[0;32mNone\u001b[0m\u001b[0;34m,\u001b[0m \u001b[0;34m**\u001b[0m\u001b[0mkwargs\u001b[0m\u001b[0;34m)\u001b[0m\u001b[0;34m:\u001b[0m\u001b[0;34m\u001b[0m\u001b[0;34m\u001b[0m\u001b[0m\n\u001b[1;32m   1446\u001b[0m         \u001b[0;32mif\u001b[0m \u001b[0mdata\u001b[0m \u001b[0;32mis\u001b[0m \u001b[0;32mNone\u001b[0m\u001b[0;34m:\u001b[0m\u001b[0;34m\u001b[0m\u001b[0;34m\u001b[0m\u001b[0m\n\u001b[0;32m-> 1447\u001b[0;31m             \u001b[0;32mreturn\u001b[0m \u001b[0mfunc\u001b[0m\u001b[0;34m(\u001b[0m\u001b[0max\u001b[0m\u001b[0;34m,\u001b[0m \u001b[0;34m*\u001b[0m\u001b[0mmap\u001b[0m\u001b[0;34m(\u001b[0m\u001b[0msanitize_sequence\u001b[0m\u001b[0;34m,\u001b[0m \u001b[0margs\u001b[0m\u001b[0;34m)\u001b[0m\u001b[0;34m,\u001b[0m \u001b[0;34m**\u001b[0m\u001b[0mkwargs\u001b[0m\u001b[0;34m)\u001b[0m\u001b[0;34m\u001b[0m\u001b[0;34m\u001b[0m\u001b[0m\n\u001b[0m\u001b[1;32m   1448\u001b[0m \u001b[0;34m\u001b[0m\u001b[0m\n\u001b[1;32m   1449\u001b[0m         \u001b[0mbound\u001b[0m \u001b[0;34m=\u001b[0m \u001b[0mnew_sig\u001b[0m\u001b[0;34m.\u001b[0m\u001b[0mbind\u001b[0m\u001b[0;34m(\u001b[0m\u001b[0max\u001b[0m\u001b[0;34m,\u001b[0m \u001b[0;34m*\u001b[0m\u001b[0margs\u001b[0m\u001b[0;34m,\u001b[0m \u001b[0;34m**\u001b[0m\u001b[0mkwargs\u001b[0m\u001b[0;34m)\u001b[0m\u001b[0;34m\u001b[0m\u001b[0;34m\u001b[0m\u001b[0m\n",
      "\u001b[0;32m~/anaconda3/lib/python3.8/site-packages/matplotlib/axes/_axes.py\u001b[0m in \u001b[0;36mimshow\u001b[0;34m(self, X, cmap, norm, aspect, interpolation, alpha, vmin, vmax, origin, extent, filternorm, filterrad, resample, url, **kwargs)\u001b[0m\n\u001b[1;32m   5521\u001b[0m                               resample=resample, **kwargs)\n\u001b[1;32m   5522\u001b[0m \u001b[0;34m\u001b[0m\u001b[0m\n\u001b[0;32m-> 5523\u001b[0;31m         \u001b[0mim\u001b[0m\u001b[0;34m.\u001b[0m\u001b[0mset_data\u001b[0m\u001b[0;34m(\u001b[0m\u001b[0mX\u001b[0m\u001b[0;34m)\u001b[0m\u001b[0;34m\u001b[0m\u001b[0;34m\u001b[0m\u001b[0m\n\u001b[0m\u001b[1;32m   5524\u001b[0m         \u001b[0mim\u001b[0m\u001b[0;34m.\u001b[0m\u001b[0mset_alpha\u001b[0m\u001b[0;34m(\u001b[0m\u001b[0malpha\u001b[0m\u001b[0;34m)\u001b[0m\u001b[0;34m\u001b[0m\u001b[0;34m\u001b[0m\u001b[0m\n\u001b[1;32m   5525\u001b[0m         \u001b[0;32mif\u001b[0m \u001b[0mim\u001b[0m\u001b[0;34m.\u001b[0m\u001b[0mget_clip_path\u001b[0m\u001b[0;34m(\u001b[0m\u001b[0;34m)\u001b[0m \u001b[0;32mis\u001b[0m \u001b[0;32mNone\u001b[0m\u001b[0;34m:\u001b[0m\u001b[0;34m\u001b[0m\u001b[0;34m\u001b[0m\u001b[0m\n",
      "\u001b[0;32m~/anaconda3/lib/python3.8/site-packages/matplotlib/image.py\u001b[0m in \u001b[0;36mset_data\u001b[0;34m(self, A)\u001b[0m\n\u001b[1;32m    700\u001b[0m         if (self._A.dtype != np.uint8 and\n\u001b[1;32m    701\u001b[0m                 not np.can_cast(self._A.dtype, float, \"same_kind\")):\n\u001b[0;32m--> 702\u001b[0;31m             raise TypeError(\"Image data of dtype {} cannot be converted to \"\n\u001b[0m\u001b[1;32m    703\u001b[0m                             \"float\".format(self._A.dtype))\n\u001b[1;32m    704\u001b[0m \u001b[0;34m\u001b[0m\u001b[0m\n",
      "\u001b[0;31mTypeError\u001b[0m: Image data of dtype <U22 cannot be converted to float"
     ]
    },
    {
     "data": {
      "image/png": "[encoded data removed]",
      "text/plain": [
       "<Figure size 432x288 with 1 Axes>"
      ]
     },
     "metadata": {
      "needs_background": "light"
     },
     "output_type": "display_data"
    }
   ],
   "source": [
    "random_index = np.random.randint(0, 1683)\n",
    "\n",
    "# Plot the image.\n",
    "print(X[random_index].shape)\n",
    "plt.imshow(X[random_index], 'gray')\n",
    "plt.axis(\"off\")\n",
    "\n",
    "print(\"The ground-truth value of this image is: \",\n",
    "      classes[Y[random_index]-1])"
   ]
  },
  {
   "cell_type": "code",
   "execution_count": 391,
   "metadata": {
    "ExecuteTime": {
     "end_time": "2022-01-05T00:29:02.417912Z",
     "start_time": "2022-01-05T00:29:02.401902Z"
    },
    "scrolled": true
   },
   "outputs": [
    {
     "ename": "IndentationError",
     "evalue": "unexpected indent (<ipython-input-391-0d763f24a9ec>, line 2)",
     "output_type": "error",
     "traceback": [
      "\u001b[0;36m  File \u001b[0;32m\"<ipython-input-391-0d763f24a9ec>\"\u001b[0;36m, line \u001b[0;32m2\u001b[0m\n\u001b[0;31m    binaryImage = binraization(X[random_index])\u001b[0m\n\u001b[0m    ^\u001b[0m\n\u001b[0;31mIndentationError\u001b[0m\u001b[0;31m:\u001b[0m unexpected indent\n"
     ]
    }
   ],
   "source": [
    "# for random_index in np.random.randint(0, 1683, 100):\n",
    "    binaryImage = binraization(X[random_index])\n",
    "    edges, skeleton, textOnly, diacritics = extractImagesSet(binaryImage//255)\n",
    "\n",
    "    # plt.imshow(binaryImage, 'gray')\n",
    "    # plt.title('binary image')\n",
    "    # plt.axis(\"off\")\n",
    "    # plt.show()\n",
    "\n",
    "\n",
    "    plt.imshow(edges, 'gray')\n",
    "    plt.title('edges')\n",
    "    plt.axis(\"off\")\n",
    "    plt.show()\n",
    "\n",
    "    horizontal = np.copy(1-edges)\n",
    "    vertical = np.copy(1-edges)\n",
    "\n",
    "    cols = horizontal.shape[1]\n",
    "    horizontal_size = cols // 20\n",
    "    horizontalStructure = cv2.getStructuringElement(cv2.MORPH_RECT, (horizontal_size, 1))\n",
    "    horizontal = cv2.morphologyEx(horizontal, cv2.MORPH_OPEN, horizontalStructure)\n",
    "\n",
    "    rows = vertical.shape[0]\n",
    "    verticalsize = rows // 20\n",
    "    verticalStructure = cv2.getStructuringElement(cv2.MORPH_RECT, (1, verticalsize))\n",
    "    vertical = cv2.morphologyEx(vertical, cv2.MORPH_OPEN, verticalStructure)\n",
    "\n",
    "    show_images([horizontal], ['horizontal lines'])\n",
    "    show_images([vertical], ['vertical lines'])\n",
    "\n",
    "    HL = cv2.connectedComponents(horizontal)[0]-1\n",
    "    VL = cv2.connectedComponents(vertical)[0]-1\n",
    "\n",
    "    print(f'number of horizontal lines:{HL}')\n",
    "    print(f'number of vertical lines:{VL}')"
   ]
  },
  {
   "cell_type": "code",
   "execution_count": 181,
   "metadata": {
    "ExecuteTime": {
     "end_time": "2021-12-27T22:47:45.482998Z",
     "start_time": "2021-12-27T22:47:45.452689Z"
    }
   },
   "outputs": [
    {
     "ename": "ValueError",
     "evalue": "not enough values to unpack (expected 4, got 2)",
     "output_type": "error",
     "traceback": [
      "\u001b[0;31m---------------------------------------------------------------------------\u001b[0m",
      "\u001b[0;31mValueError\u001b[0m                                Traceback (most recent call last)",
      "\u001b[0;32m<ipython-input-181-e2ce752566e2>\u001b[0m in \u001b[0;36m<module>\u001b[0;34m\u001b[0m\n\u001b[0;32m----> 1\u001b[0;31m \u001b[0mnumLabels\u001b[0m\u001b[0;34m,\u001b[0m \u001b[0mlabels\u001b[0m\u001b[0;34m,\u001b[0m \u001b[0mstats\u001b[0m\u001b[0;34m,\u001b[0m \u001b[0mcentroids\u001b[0m \u001b[0;34m=\u001b[0m \u001b[0mcv2\u001b[0m\u001b[0;34m.\u001b[0m\u001b[0mconnectedComponents\u001b[0m\u001b[0;34m(\u001b[0m\u001b[0mvertical\u001b[0m\u001b[0;34m)\u001b[0m\u001b[0;34m\u001b[0m\u001b[0;34m\u001b[0m\u001b[0m\n\u001b[0m\u001b[1;32m      2\u001b[0m \u001b[0;34m\u001b[0m\u001b[0m\n\u001b[1;32m      3\u001b[0m \u001b[0;31m# for i in range(0, numLabels):\u001b[0m\u001b[0;34m\u001b[0m\u001b[0;34m\u001b[0m\u001b[0;34m\u001b[0m\u001b[0m\n\u001b[1;32m      4\u001b[0m \u001b[0;31m#     if i == 0:\u001b[0m\u001b[0;34m\u001b[0m\u001b[0;34m\u001b[0m\u001b[0;34m\u001b[0m\u001b[0m\n\u001b[1;32m      5\u001b[0m \u001b[0;31m#         text = \"examining component {}/{} (background)\".format(\u001b[0m\u001b[0;34m\u001b[0m\u001b[0;34m\u001b[0m\u001b[0;34m\u001b[0m\u001b[0m\n",
      "\u001b[0;31mValueError\u001b[0m: not enough values to unpack (expected 4, got 2)"
     ]
    }
   ],
   "source": [
    "VL = cv2.connectedComponents(vertical)[0]-1\n",
    "\n",
    "# for i in range(0, numLabels):\n",
    "#     if i == 0:\n",
    "#         text = \"examining component {}/{} (background)\".format(\n",
    "#             i + 1, numLabels)\n",
    "#     else:\n",
    "#         text = \"examining component {}/{}\".format( i + 1, numLabels)\n",
    "    \n",
    "#     print(\"[INFO] {}\".format(text))\n",
    "    \n",
    "#     x = stats[i, cv2.CC_STAT_LEFT]\n",
    "#     y = stats[i, cv2.CC_STAT_TOP]\n",
    "#     w = stats[i, cv2.CC_STAT_WIDTH]\n",
    "#     h = stats[i, cv2.CC_STAT_HEIGHT]\n",
    "#     area = stats[i, cv2.CC_STAT_AREA]\n",
    "#     (cX, cY) = centroids[i]\n",
    "\n",
    "#     output = cv2.cvtColor(vertical*255, cv2.COLOR_GRAY2BGR)\n",
    "#     cv2.rectangle(output, (x, y), (x + w, y + h), (0, 255, 0), 3)\n",
    "#     cv2.circle(output, (int(cX), int(cY)), 4, (0, 0, 255), -1)\n",
    "    \n",
    "#     show_images([output], [f'component #{i}'])\n",
    "    "
   ]
  },
  {
   "cell_type": "code",
   "execution_count": 85,
   "metadata": {
    "ExecuteTime": {
     "end_time": "2021-12-28T12:39:53.997096Z",
     "start_time": "2021-12-28T12:39:53.902254Z"
    }
   },
   "outputs": [
    {
     "data": {
      "image/png": "[encoded data removed]",
      "text/plain": [
       "<Figure size 432x288 with 1 Axes>"
      ]
     },
     "metadata": {
      "needs_background": "light"
     },
     "output_type": "display_data"
    },
    {
     "data": {
      "image/png": "[encoded data removed]",
      "text/plain": [
       "<Figure size 432x288 with 1 Axes>"
      ]
     },
     "metadata": {
      "needs_background": "light"
     },
     "output_type": "display_data"
    }
   ],
   "source": [
    "\n",
    "random_index = np.random.randint(0, 1683)\n",
    "img = X[random_index].copy()\n",
    "plt.figure()\n",
    "plt.imshow(img, 'gray')\n",
    "plt.axis(\"off\")\n",
    "plt.show()\n",
    "\n",
    "binaryImage = binraization(img)\n",
    "plt.figure()\n",
    "plt.imshow(binaryImage, 'gray')\n",
    "plt.axis(\"off\")\n",
    "plt.show()\n",
    "\n"
   ]
  },
  {
   "cell_type": "code",
   "execution_count": 90,
   "metadata": {
    "ExecuteTime": {
     "end_time": "2022-01-04T17:55:16.079483Z",
     "start_time": "2022-01-04T17:55:12.803775Z"
    }
   },
   "outputs": [],
   "source": [
    "feature_dim = 360\n",
    "features = np.zeros((X.shape[0], feature_dim))\n",
    "for i in range(X.shape[0]):\n",
    "    X[i] = binraization(X[i])\n",
    "\n",
    "#     edges, skeleton, textOnly, diacritics = extractImagesSet(X[i] // 255)\n",
    "    features[i] = extract_EOH(X[i], feature_dim)\n",
    "\n",
    "# features, labels = [], []\n",
    "\n",
    "# for i in range(X.shape[0]):\n",
    "#     X[i] = binraization(X[i])\n",
    "# #     Xi_textOnly, _ = diacriticsSegmentationClustering(X[i]//255)\n",
    "#     features.append(extract_hog_features(X[i]))\n",
    "# #     features.append(extract_hog_features(Xi_textOnly*255))\n",
    "# #     labels.append(Y[i])\n",
    "# #     labels.append(Y[i])\n",
    "\n",
    "# features = np.asarray(features)\n",
    "# # labels = np.asarray(labels)\n",
    "# print(features.shape)\n",
    "# # print(labels.shape)"
   ]
  },
  {
   "cell_type": "code",
   "execution_count": 88,
   "metadata": {
    "ExecuteTime": {
     "end_time": "2021-12-28T12:40:04.052461Z",
     "start_time": "2021-12-28T12:40:04.032267Z"
    }
   },
   "outputs": [],
   "source": [
    "# print(X_train.shape, Y_train.shape)\n",
    "# print(X_valid.shape, Y_valid.shape)\n",
    "# print(X_test.shape, Y_test.shape)\n",
    "\n",
    "# features, labels = [], []\n",
    "\n",
    "# for i in range(X_train.shape[0]):\n",
    "#     X_train[i] = binraization(X_train[i])\n",
    "#     Xi_textOnly, _ = diacriticsSegmentationClustering(X_train[i]//255)\n",
    "#     features.append(extract_hog_features(X_train[i]))\n",
    "#     features.append(extract_hog_features(Xi_textOnly*255))\n",
    "#     labels.append(Y_train[i])\n",
    "#     labels.append(Y_train[i])\n",
    "\n",
    "# features = np.asarray(features)\n",
    "# labels = np.asarray(labels)\n",
    "\n",
    "# features_valid, labels_valid = [], []\n",
    "\n",
    "# for i in range(X_valid.shape[0]):\n",
    "#     X_valid[i] = binraization(X_valid[i])\n",
    "#     Xi_textOnly, _ = diacriticsSegmentationClustering(X_valid[i]//255)\n",
    "#     features_valid.append(extract_hog_features(X_valid[i]))\n",
    "#     features_valid.append(extract_hog_features(Xi_textOnly*255))\n",
    "#     labels_valid.append(Y_valid[i])\n",
    "#     labels_valid.append(Y_valid[i])\n",
    "\n",
    "\n",
    "# features_valid = np.asarray(features_valid)\n",
    "# labels_valid = np.asarray(labels_valid)\n",
    "    \n",
    "# features_test, labels_test = [], []\n",
    "\n",
    "# for i in range(X_test.shape[0]):\n",
    "#     X_test[i] = binraization(X_test[i])\n",
    "#     Xi_textOnly, _ = diacriticsSegmentationClustering(X_test[i]//255)\n",
    "#     features_test.append(extract_hog_features(X_test[i]))\n",
    "#     features_test.append(extract_hog_features(Xi_textOnly*255))\n",
    "#     labels_test.append(Y_test[i])\n",
    "#     labels_test.append(Y_test[i])\n",
    "\n",
    "# features_test = np.asarray(features_test)\n",
    "# labels_test = np.asarray(labels_test)\n",
    "\n",
    "# print(features.shape, labels.shape)\n",
    "# print(features_valid.shape, labels_valid.shape)\n",
    "# print(features_test.shape, labels_test.shape)"
   ]
  },
  {
   "cell_type": "code",
   "execution_count": 386,
   "metadata": {
    "ExecuteTime": {
     "end_time": "2022-01-05T00:27:05.526855Z",
     "start_time": "2022-01-05T00:27:05.490704Z"
    }
   },
   "outputs": [
    {
     "name": "stdout",
     "output_type": "stream",
     "text": [
      "torch.Size([1010, 360])\n",
      "torch.Size([1010])\n",
      "torch.Size([337, 360])\n",
      "torch.Size([337])\n",
      "torch.Size([337, 360])\n",
      "torch.Size([337])\n"
     ]
    }
   ],
   "source": [
    "X_train = torch.from_numpy(X_train)\n",
    "print(X_train.shape)\n",
    "Y_train = torch.from_numpy(Y_train)\n",
    "print(Y_train.shape)\n",
    "X_valid = torch.from_numpy(X_valid)\n",
    "print(X_valid.shape)\n",
    "Y_valid = torch.from_numpy(Y_valid)\n",
    "print(Y_valid.shape)\n",
    "X_test = torch.from_numpy(X_test)\n",
    "print(X_test.shape)\n",
    "Y_test = torch.from_numpy(Y_test)\n",
    "print(Y_test.shape)"
   ]
  },
  {
   "cell_type": "code",
   "execution_count": 388,
   "metadata": {
    "ExecuteTime": {
     "end_time": "2022-01-05T00:27:44.876517Z",
     "start_time": "2022-01-05T00:27:36.794787Z"
    },
    "scrolled": false
   },
   "outputs": [
    {
     "name": "stdout",
     "output_type": "stream",
     "text": [
      "loss = 0.006547279103219686, accuracy = 9.495548961424333\n",
      "loss = 0.004589021029033718, accuracy = 33.531157270029674\n",
      "loss = 0.0027358818478683336, accuracy = 67.06231454005935\n",
      "loss = 0.0018284462326004526, accuracy = 73.29376854599407\n",
      "loss = 0.001381113373561146, accuracy = 83.67952522255193\n",
      "loss = 0.0009377354684144877, accuracy = 89.91097922848664\n",
      "loss = 0.000870203140581397, accuracy = 89.31750741839762\n",
      "loss = 0.0007279209284117385, accuracy = 91.69139465875371\n",
      "loss = 0.0005881495397946955, accuracy = 92.28486646884274\n",
      "loss = 0.0005608561396245079, accuracy = 91.98813056379822\n",
      "loss = 0.0005198900618256023, accuracy = 92.28486646884274\n",
      "loss = 0.0005038214366584574, accuracy = 91.98813056379822\n",
      "loss = 0.0004777633737032067, accuracy = 92.87833827893175\n",
      "loss = 0.0004759374287432662, accuracy = 93.76854599406528\n",
      "loss = 0.00047382765424711413, accuracy = 93.47181008902076\n",
      "loss = 0.0004732905049706071, accuracy = 93.17507418397626\n",
      "loss = 0.00047325694419509935, accuracy = 93.47181008902076\n",
      "loss = 0.0004679217094483644, accuracy = 94.06528189910979\n",
      "loss = 0.0004566168130682201, accuracy = 93.47181008902076\n",
      "loss = 0.00045379103114413934, accuracy = 93.76854599406528\n",
      "loss = 0.000449301183046856, accuracy = 94.06528189910979\n",
      "loss = 0.0004433108720298337, accuracy = 93.76854599406528\n",
      "loss = 0.0004399794676183593, accuracy = 93.76854599406528\n",
      "loss = 0.00041892686831137546, accuracy = 94.3620178041543\n"
     ]
    },
    {
     "data": {
      "image/png": "[encoded data removed]",
      "text/plain": [
       "<Figure size 432x288 with 1 Axes>"
      ]
     },
     "metadata": {
      "needs_background": "light"
     },
     "output_type": "display_data"
    },
    {
     "name": "stdout",
     "output_type": "stream",
     "text": [
      "training accuracy = 99.70297029702971%\n",
      "validation accuracy = 94.3620178041543%\n",
      "test accuracy = 93.47181008902076%\n"
     ]
    }
   ],
   "source": [
    "from nn_utils import *\n",
    "\n",
    "model = nn.Sequential(nn.Linear(feature_dim, 1024),\n",
    "                    nn.ReLU(),\n",
    "                    nn.Dropout(0.2),\n",
    "                    nn.Linear(1024, 512),\n",
    "                    nn.ReLU(),\n",
    "                    nn.Dropout(0.2),\n",
    "                    nn.Linear(512, 9),\n",
    "                    nn.LogSoftmax(dim=1))\n",
    "\n",
    "train_losses, validation_losses =\\\n",
    "    nn_train(model, X_train, Y_train, X_valid, Y_valid, epochs=2000, lr=0.01, validate_every=10, debug=False)\n",
    "\n",
    "plt.plot(train_losses, label='Training loss')\n",
    "plt.plot(validation_losses, label='Validation loss')\n",
    "plt.legend(frameon=False)\n",
    "plt.show()\n",
    "\n",
    "\n",
    "model.load_state_dict(torch.load('model.pth'))\n",
    "train_predictions = nn_predict(model, X_train)\n",
    "validation_predictions = nn_predict(model, X_valid)\n",
    "test_predictions = nn_predict(model, X_test)\n",
    "\n",
    "print(f'training accuracy = {nn_accuracy(train_predictions, Y_train) * 100}%')\n",
    "print(f'validation accuracy = {nn_accuracy(validation_predictions, Y_valid) * 100}%')\n",
    "print(f'test accuracy = {nn_accuracy(test_predictions, Y_test) * 100}%')"
   ]
  },
  {
   "cell_type": "code",
   "execution_count": 383,
   "metadata": {
    "ExecuteTime": {
     "end_time": "2022-01-05T00:26:17.283188Z",
     "start_time": "2022-01-05T00:26:17.249265Z"
    }
   },
   "outputs": [
    {
     "name": "stdout",
     "output_type": "stream",
     "text": [
      "training accuracy = 99.9009900990099%\n",
      "validation accuracy = 96.14243323442136%\n",
      "test accuracy = 97.92284866468842%\n"
     ]
    }
   ],
   "source": [
    "model.load_state_dict(torch.load('model.pth'))\n",
    "\n",
    "train_predictions = nn_predict(model, X_train)\n",
    "validation_predictions = nn_predict(model, X_valid)\n",
    "test_predictions = nn_predict(model, X_test)\n",
    "\n",
    "print(f'training accuracy = {nn_accuracy(train_predictions, Y_train) * 100}%')\n",
    "print(f'validation accuracy = {nn_accuracy(validation_predictions, Y_valid) * 100}%')\n",
    "print(f'test accuracy = {nn_accuracy(test_predictions, Y_test) * 100}%')"
   ]
  },
  {
   "cell_type": "code",
   "execution_count": 50,
   "metadata": {
    "ExecuteTime": {
     "end_time": "2021-12-28T12:21:58.619798Z",
     "start_time": "2021-12-28T12:21:58.504606Z"
    }
   },
   "outputs": [
    {
     "name": "stdout",
     "output_type": "stream",
     "text": [
      "training accuracy = 94.75247524752474%\n",
      "validation accuracy = 93.76854599406528%\n",
      "test accuracy = 92.87833827893175%\n"
     ]
    }
   ],
   "source": [
    "from sklearn import svm, metrics\n",
    "\n",
    "poly = svm.SVC(kernel = 'poly', C=1, degree=4, decision_function_shape='ovo').fit(X_train, Y_train)\n",
    "\n",
    "train_predictions = poly.predict(X_train)\n",
    "validation_predictions = poly.predict(X_valid)\n",
    "test_predictions = poly.predict(X_test)\n",
    "\n",
    "print(f'training accuracy = {metrics.accuracy_score(Y_train, train_predictions) * 100}%')\n",
    "print(f'validation accuracy = {metrics.accuracy_score(Y_valid, validation_predictions) * 100}%')\n",
    "print(f'test accuracy = {metrics.accuracy_score(Y_test, test_predictions) * 100}%')"
   ]
  },
  {
   "cell_type": "code",
   "execution_count": null,
   "metadata": {},
   "outputs": [],
   "source": []
  }
 ],
 "metadata": {
  "interpreter": {
   "hash": "54ac309f0ea5c8bc60f79b0ab1d3bdc25309c2f99851fe0390ab71cf066c3be6"
  },
  "kernelspec": {
   "display_name": "Python 3",
   "language": "python",
   "name": "python3"
  },
  "language_info": {
   "codemirror_mode": {
    "name": "ipython",
    "version": 3
   },
   "file_extension": ".py",
   "mimetype": "text/x-python",
   "name": "python",
   "nbconvert_exporter": "python",
   "pygments_lexer": "ipython3",
   "version": "3.8.8"
  },
  "toc": {
   "base_numbering": 1,
   "nav_menu": {},
   "number_sections": true,
   "sideBar": true,
   "skip_h1_title": false,
   "title_cell": "Table of Contents",
   "title_sidebar": "Contents",
   "toc_cell": false,
   "toc_position": {},
   "toc_section_display": true,
   "toc_window_display": false
  },
  "varInspector": {
   "cols": {
    "lenName": 16,
    "lenType": 16,
    "lenVar": 40
   },
   "kernels_config": {
    "python": {
     "delete_cmd_postfix": "",
     "delete_cmd_prefix": "del ",
     "library": "var_list.py",
     "varRefreshCmd": "print(var_dic_list())"
    },
    "r": {
     "delete_cmd_postfix": ") ",
     "delete_cmd_prefix": "rm(",
     "library": "var_list.r",
     "varRefreshCmd": "cat(var_dic_list()) "
    }
   },
   "types_to_exclude": [
    "module",
    "function",
    "builtin_function_or_method",
    "instance",
    "_Feature"
   ],
   "window_display": false
  }
 },
 "nbformat": 4,
 "nbformat_minor": 2
}
